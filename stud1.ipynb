{
 "cells": [
  {
   "cell_type": "markdown",
   "id": "f803cc7e-f15c-4852-9a83-f1570eac56b9",
   "metadata": {},
   "source": [
    "## 6. Write a python program create csv file student.csv(sid,sname,city,contact) using 10 records. (in which 5 records input directly and 5 records take input from user) write records into this file.Read this file using csv module and print only those where city is 'Bardoli'."
   ]
  },
  {
   "cell_type": "code",
   "execution_count": 15,
   "id": "585de4af-d063-47b8-97a6-edde98e5d0e0",
   "metadata": {},
   "outputs": [],
   "source": [
    "import csv"
   ]
  },
  {
   "cell_type": "code",
   "execution_count": 16,
   "id": "d6095b14-406b-4472-b430-6539578fe920",
   "metadata": {},
   "outputs": [],
   "source": [
    "l=[\n",
    "    [1,'om','bardoli','1234567890'],\n",
    "    [2,'sai','surat','3456789012'],\n",
    "    [3,'ram','vyara','1234567123'],\n",
    "    [4,'radha','ahmedabad','1234337890'],\n",
    "    [5,'krishna','bardoli','1234467890'],\n",
    "  ] "
   ]
  },
  {
   "cell_type": "markdown",
   "id": "1a3f79e5-2437-4714-a4a3-98e0f2ec66d7",
   "metadata": {},
   "source": [
    "## write the direct records to student.csv"
   ]
  },
  {
   "cell_type": "code",
   "execution_count": 17,
   "id": "73300422-29c6-4b7f-b96d-ae8fafb4ae26",
   "metadata": {},
   "outputs": [],
   "source": [
    "with open(\"D:/23BCA294/sqlite3/csv/student1.csv\",\"w\", newline='') as f:\n",
    "    write = csv.writer(f)\n",
    "    write.writerow(['sid','sname','city','contact'])\n",
    "    write.writerows(l)"
   ]
  },
  {
   "cell_type": "markdown",
   "id": "0c18c04a-cad4-4be2-8091-fa1cb03423f1",
   "metadata": {},
   "source": [
    "## insert 5 records from user"
   ]
  },
  {
   "cell_type": "code",
   "execution_count": 19,
   "id": "bb4e1bcf-149b-43f4-bff4-6b48e5c7c17e",
   "metadata": {},
   "outputs": [
    {
     "name": "stdin",
     "output_type": "stream",
     "text": [
      "enter name:  harsh\n",
      "enter city:  surat\n",
      "enter contact number:  1234567890\n"
     ]
    },
    {
     "ename": "NameError",
     "evalue": "name 'contact' is not defined",
     "output_type": "error",
     "traceback": [
      "\u001b[1;31m---------------------------------------------------------------------------\u001b[0m",
      "\u001b[1;31mNameError\u001b[0m                                 Traceback (most recent call last)",
      "Cell \u001b[1;32mIn[19], line 7\u001b[0m\n\u001b[0;32m      5\u001b[0m city \u001b[38;5;241m=\u001b[39m \u001b[38;5;28minput\u001b[39m(\u001b[38;5;124m\"\u001b[39m\u001b[38;5;124menter city: \u001b[39m\u001b[38;5;124m\"\u001b[39m)\n\u001b[0;32m      6\u001b[0m contaCT \u001b[38;5;241m=\u001b[39m \u001b[38;5;28minput\u001b[39m(\u001b[38;5;124m\"\u001b[39m\u001b[38;5;124menter contact number: \u001b[39m\u001b[38;5;124m\"\u001b[39m)\n\u001b[1;32m----> 7\u001b[0m l1\u001b[38;5;241m.\u001b[39mappend([i, sname, city, \u001b[43mcontact\u001b[49m])\n",
      "\u001b[1;31mNameError\u001b[0m: name 'contact' is not defined"
     ]
    }
   ],
   "source": [
    "l1=[]\n",
    "for i in range(6,11): #student IDs will start from 6 to 10\n",
    "    # print (f\"enter details for student{i}:\")\n",
    "    sname = input(\"enter name: \")\n",
    "    city = input(\"enter city: \")\n",
    "    contaCT = input(\"enter contact number: \")\n",
    "    l1.append([i, sname, city, contact])"
   ]
  }
 ],
 "metadata": {
  "kernelspec": {
   "display_name": "Python 3 (ipykernel)",
   "language": "python",
   "name": "python3"
  },
  "language_info": {
   "codemirror_mode": {
    "name": "ipython",
    "version": 3
   },
   "file_extension": ".py",
   "mimetype": "text/x-python",
   "name": "python",
   "nbconvert_exporter": "python",
   "pygments_lexer": "ipython3",
   "version": "3.12.4"
  }
 },
 "nbformat": 4,
 "nbformat_minor": 5
}
