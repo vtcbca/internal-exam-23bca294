{
 "cells": [
  {
   "cell_type": "code",
   "execution_count": 1,
   "id": "ff09607a-3824-49d6-ad79-187536fbe055",
   "metadata": {},
   "outputs": [],
   "source": [
    "import csv"
   ]
  },
  {
   "cell_type": "markdown",
   "id": "eecfdaf9-035f-41da-99d4-c62235aeb8e6",
   "metadata": {},
   "source": [
    "## Define the filename"
   ]
  },
  {
   "cell_type": "code",
   "execution_count": 2,
   "id": "596d511a-eb05-4785-adf9-9c0438d918e4",
   "metadata": {},
   "outputs": [],
   "source": [
    "filename = 'student.csv'"
   ]
  },
  {
   "cell_type": "markdown",
   "id": "0f1f14ef-e282-4d94-93c3-708e05b9dc5d",
   "metadata": {},
   "source": [
    "## student 5 record"
   ]
  },
  {
   "cell_type": "code",
   "execution_count": 3,
   "id": "c6774b2e-2a72-4cfb-964e-ad2491cf2a9c",
   "metadata": {},
   "outputs": [],
   "source": [
    "hardcoded_records = [\n",
    "    ['1', 'harsh', 'Bardoli', '1234567890'],\n",
    "    ['2', 'om', 'Surat', '2345678901'],\n",
    "    ['3', 'sai', 'Bardoli', '3456789012'],\n",
    "    ['4', 'ram,', 'Vadodara', '4567890123'],\n",
    "    ['5', 'parth', 'Ahmedabad', '5678901234']\n",
    "]"
   ]
  },
  {
   "cell_type": "markdown",
   "id": "bb139ce8-8703-4a02-b2c9-daf6aa5b7966",
   "metadata": {},
   "source": [
    "## Initialize an empty list for user input records"
   ]
  },
  {
   "cell_type": "code",
   "execution_count": 4,
   "id": "2a4da7ba-2e87-42d7-bd6d-01c52b7db07a",
   "metadata": {},
   "outputs": [],
   "source": [
    "user_records = []"
   ]
  },
  {
   "cell_type": "markdown",
   "id": "83026381-f680-4d5e-8207-3fa207a6ed7a",
   "metadata": {},
   "source": [
    "## Take 5 records from user input"
   ]
  },
  {
   "cell_type": "code",
   "execution_count": 5,
   "id": "d2764865-8f31-445c-819a-476a2fcd01c7",
   "metadata": {},
   "outputs": [
    {
     "name": "stdout",
     "output_type": "stream",
     "text": [
      "Enter 5 student records:\n"
     ]
    }
   ],
   "source": [
    "print(\"Enter 5 student records:\")"
   ]
  },
  {
   "cell_type": "code",
   "execution_count": null,
   "id": "14bbf4be-8dfb-4b64-93b4-2288e799e708",
   "metadata": {},
   "outputs": [
    {
     "name": "stdin",
     "output_type": "stream",
     "text": [
      "Enter Student ID:  1\n",
      "Enter Student Name:  om\n",
      "Enter City:  bardoli\n",
      "Enter Contact Number:  7862940010\n",
      "Enter Student ID:  2\n",
      "Enter Student Name:  sai\n",
      "Enter City:  surat\n",
      "Enter Contact Number:  95108379\n",
      "Enter Student ID:  3\n",
      "Enter Student Name:  ram\n"
     ]
    }
   ],
   "source": [
    "for i in range(5):\n",
    "    sid = input(\"Enter Student ID: \")\n",
    "    sname = input(\"Enter Student Name: \")\n",
    "    city = input(\"Enter City: \")\n",
    "    contact = input(\"Enter Contact Number: \")\n",
    "    user_records.append([sid, sname, city, contact])"
   ]
  }
 ],
 "metadata": {
  "kernelspec": {
   "display_name": "Python 3 (ipykernel)",
   "language": "python",
   "name": "python3"
  },
  "language_info": {
   "codemirror_mode": {
    "name": "ipython",
    "version": 3
   },
   "file_extension": ".py",
   "mimetype": "text/x-python",
   "name": "python",
   "nbconvert_exporter": "python",
   "pygments_lexer": "ipython3",
   "version": "3.12.4"
  }
 },
 "nbformat": 4,
 "nbformat_minor": 5
}
